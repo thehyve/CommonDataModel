{
 "cells": [
  {
   "cell_type": "code",
   "execution_count": 1,
   "metadata": {
    "collapsed": true
   },
   "outputs": [],
   "source": [
    "import os, codecs\n",
    "INPUT_FOLDERS = [\n",
    "      \"../CommonDataModel_Wiki_Files/StandardizedClinicalDataTables\"\n",
    "     ,\"../CommonDataModel_Wiki_Files/StandardizedDerivedElements\"\n",
    "     ,\"../CommonDataModel_Wiki_Files/StandardizedHealthEconomicsDataTables\"\n",
    "     ,\"../CommonDataModel_Wiki_Files/StandardizedHealthSystemDataTables\"\n",
    "     ,\"../CommonDataModel_Wiki_Files/StandardizedMetadata\"\n",
    "#      ,\"../CommonDataModel_Wiki_Files/StandardizedVocabularies\"\n",
    "]\n",
    "OUTPUT_FILENAME = \"CDMv5.2.0.csv\""
   ]
  },
  {
   "cell_type": "code",
   "execution_count": 2,
   "metadata": {
    "collapsed": false
   },
   "outputs": [
    {
     "name": "stdout",
     "output_type": "stream",
     "text": [
      "['CONDITION_OCCURRENCE.md', 'DEATH.md', 'DEVICE_EXPOSURE.md', 'DRUG_EXPOSURE.md', 'FACT_RELATIONSHIP.md', 'MEASUREMENT.md', 'NOTE.md', 'NOTE_NLP.md', 'OBSERVATION.md', 'OBSERVATION_PERIOD.md', 'PERSON.md', 'PROCEDURE_OCCURRENCE.md', 'SPECIMEN.md', 'Standardized-Clinical-Data-Tables.md', 'VISIT_DETAIL.md', 'VISIT_OCCURRENCE.md', 'COHORT.md', 'COHORT_ATTRIBUTE.md', 'CONDITION_ERA.md', 'DOSE_ERA.md', 'DRUG_ERA.md', 'Standardized-Derived-Elements.md', 'COST.md', 'PAYER_PLAN_PERIOD.md', 'Standardized-Health-Economics-Data-Tables.md', 'CARE_SITE.md', 'LOCATION.md', 'PROVIDER.md', 'Standardized-Health-System-Data-Tables.md', 'CDM_SOURCE.md', 'Standardized-Metadata.md', 'ATTRIBUTE_DEFINITION.md', 'COHORT_DEFINITION.md']\n"
     ]
    }
   ],
   "source": [
    "# Find all files with table descriptions\n",
    "filenames = []\n",
    "for folder in INPUT_FOLDERS:\n",
    "    filenames.extend([(folder, x) for x in os.listdir(folder)])\n",
    "filenames.append((\"../CommonDataModel_Wiki_Files/StandardizedVocabularies\",\"ATTRIBUTE_DEFINITION.md\"))\n",
    "filenames.append((\"../CommonDataModel_Wiki_Files/StandardizedVocabularies\",\"COHORT_DEFINITION.md\"))\n",
    "print([x[1] for x in filenames])"
   ]
  },
  {
   "cell_type": "code",
   "execution_count": 5,
   "metadata": {
    "collapsed": false
   },
   "outputs": [
    {
     "name": "stdout",
     "output_type": "stream",
     "text": [
      "Switching columns 'field type' and 'required' for VISIT_DETAIL.md      admitting_source_value\t\n",
      "Switching columns 'field type' and 'required' for VISIT_DETAIL.md      discharge_to_source_value\n",
      "Switching columns 'field type' and 'required' for VISIT_DETAIL.md      discharge_to_concept_id\n",
      "Switching columns 'field type' and 'required' for VISIT_DETAIL.md      preceding_visit_detail_id\t\n",
      "Switching columns 'field type' and 'required' for VISIT_DETAIL.md      visit_detail_parent_id\t\n",
      "Switching columns 'field type' and 'required' for VISIT_DETAIL.md      visit_occurrence_id\t\n",
      "Switching columns 'field type' and 'required' for VISIT_OCCURRENCE.md  admitting_source_value\t\n",
      "Switching columns 'field type' and 'required' for VISIT_OCCURRENCE.md  discharge_to_concept_id\n",
      "Switching columns 'field type' and 'required' for VISIT_OCCURRENCE.md  discharge_to_source_value\n",
      "Switching columns 'field type' and 'required' for VISIT_OCCURRENCE.md  preceding_visit_occurrence_id\t\n",
      "Switching columns 'field type' and 'required' for COST.md              drg_concept_id\n",
      "Switching columns 'field type' and 'required' for COST.md              drg_source_value\n",
      "\n",
      "322 rows processed from 28 tables written to CDMv5.2.0.csv\n",
      "ATTRIBUTE_DEFINITION.md\n",
      "CARE_SITE.md\n",
      "CDM_SOURCE.md\n",
      "COHORT.md\n",
      "COHORT_ATTRIBUTE.md\n",
      "COHORT_DEFINITION.md\n",
      "CONDITION_ERA.md\n",
      "CONDITION_OCCURRENCE.md\n",
      "COST.md\n",
      "DEATH.md\n",
      "DEVICE_EXPOSURE.md\n",
      "DOSE_ERA.md\n",
      "DRUG_ERA.md\n",
      "DRUG_EXPOSURE.md\n",
      "FACT_RELATIONSHIP.md\n",
      "LOCATION.md\n",
      "MEASUREMENT.md\n",
      "NOTE.md\n",
      "NOTE_NLP.md\n",
      "OBSERVATION.md\n",
      "OBSERVATION_PERIOD.md\n",
      "PAYER_PLAN_PERIOD.md\n",
      "PERSON.md\n",
      "PROCEDURE_OCCURRENCE.md\n",
      "PROVIDER.md\n",
      "SPECIMEN.md\n",
      "VISIT_DETAIL.md\n",
      "VISIT_OCCURRENCE.md\n"
     ]
    }
   ],
   "source": [
    "# Parse all field description tables into one table\n",
    "counter = 0\n",
    "tables_processed = set()\n",
    "with codecs.open(OUTPUT_FILENAME,'w','utf-8') as file_out:\n",
    "    file_out.write(\"TABLE_NAME,COLUMN_NAME,IS_NULLABLE,DATA_TYPE,DESCRIPTION\")\n",
    "    file_out.write(\"\\n\")\n",
    "    for folder, filename in filenames:\n",
    "        is_header_seen = False\n",
    "        with codecs.open(os.path.join(folder, filename), 'r', 'windows-1252') as file_in:\n",
    "            for line in file_in:\n",
    "                # Table rows contain a pipe\n",
    "                if '|' in line:\n",
    "                    # Header rows are formatted with :-\n",
    "                    # Only first header taken into account\n",
    "                    if ':-' in line:\n",
    "                        if is_header_seen:\n",
    "                            break;\n",
    "                        is_header_seen = True\n",
    "                        continue\n",
    "\n",
    "                    if is_header_seen:\n",
    "                        line = line.strip().strip('|')\n",
    "                        columns = line.split('|')\n",
    "\n",
    "                        # Field description table contains 4 columns.\n",
    "                        if len(columns) != 4:\n",
    "                            continue\n",
    "                        \n",
    "                        field_name = columns[0].strip().upper()\n",
    "                        required = columns[1].strip().lower()\n",
    "                        field_type = columns[2].strip().lower()\n",
    "                        description = '\"' + columns[3].strip().replace('\"','') + '\"' \n",
    "                        \n",
    "                        if field_type == \"no\" or field_type == \"yes\":\n",
    "                            print(\"Switching columns 'field type' and 'required' for %-20s %s\" % (filename, columns[0]))\n",
    "                            #switcheroo\n",
    "                            temp = field_type\n",
    "                            field_type = required\n",
    "                            required = temp\n",
    "\n",
    "                        # is_nullable = !required\n",
    "                        is_nullable = \"NO\" if required == \"yes\" else \"YES\"\n",
    "\n",
    "                        # convert field types\n",
    "                        if \"varchar\" in field_type or \"string\" in field_type:\n",
    "                            #varchar(xxx)\n",
    "                            data_type = \"CHARACTER VARYING\"\n",
    "                        elif \"lob\" in field_type:\n",
    "                            #clob or blob\n",
    "                            data_type = \"TEXT\"\n",
    "                        elif field_type == \"float\":\n",
    "                            data_type = \"NUMERIC\"\n",
    "                        else:\n",
    "                            data_type = field_type.upper()                    \n",
    "                        \n",
    "                        #Table name from file name\n",
    "                        table_name = filename.replace('.md','')\n",
    "                        row = \",\".join((table_name, field_name, is_nullable, data_type, description))\n",
    "                        #print(row)\n",
    "                        file_out.write(row)\n",
    "                        file_out.write(\"\\n\")\n",
    "                        tables_processed.add(filename)\n",
    "                        counter += 1\n",
    "print()\n",
    "print(\"%d rows processed from %d tables written to %s\" % (counter, len(tables_processed),OUTPUT_FILENAME))\n",
    "a = [print(x) for x in sorted(tables_processed)]"
   ]
  },
  {
   "cell_type": "code",
   "execution_count": null,
   "metadata": {
    "collapsed": true
   },
   "outputs": [],
   "source": []
  }
 ],
 "metadata": {
  "kernelspec": {
   "display_name": "Python 3",
   "language": "python",
   "name": "python3"
  },
  "language_info": {
   "codemirror_mode": {
    "name": "ipython",
    "version": 3
   },
   "file_extension": ".py",
   "mimetype": "text/x-python",
   "name": "python",
   "nbconvert_exporter": "python",
   "pygments_lexer": "ipython3",
   "version": "3.6.2"
  }
 },
 "nbformat": 4,
 "nbformat_minor": 0
}
